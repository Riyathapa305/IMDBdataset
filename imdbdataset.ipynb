{
  "cells": [
    {
      "cell_type": "markdown",
      "metadata": {
        "id": "view-in-github",
        "colab_type": "text"
      },
      "source": [
        "<a href=\"https://colab.research.google.com/github/Riyathapa305/IMDBdataset/blob/main/imdbdataset.ipynb\" target=\"_parent\"><img src=\"https://colab.research.google.com/assets/colab-badge.svg\" alt=\"Open In Colab\"/></a>"
      ]
    },
    {
      "cell_type": "code",
      "execution_count": 2,
      "metadata": {
        "id": "ti2UPeLgtcTu"
      },
      "outputs": [],
      "source": [
        "import os\n",
        "import pandas as pd\n",
        "import numpy as np"
      ]
    },
    {
      "cell_type": "code",
      "execution_count": 3,
      "metadata": {
        "colab": {
          "base_uri": "https://localhost:8080/",
          "height": 0
        },
        "id": "ZwUFkpOhtdUM",
        "outputId": "32bb0d53-2437-4263-c0e6-be31af578fd9"
      },
      "outputs": [
        {
          "output_type": "stream",
          "name": "stdout",
          "text": [
            "Extracted Files: ['.config', 'train.csv.zip', '.ipynb_checkpoints', 'IMDB Dataset.csv', 'sample_data']\n"
          ]
        }
      ],
      "source": [
        "import zipfile\n",
        "import io\n",
        "\n",
        "zip_file_path = 'train.csv.zip'\n",
        "\n",
        "with zipfile.ZipFile(zip_file_path, 'r') as zip_ref:\n",
        "    zip_ref.extractall()\n",
        "\n",
        "extracted_files = os.listdir()\n",
        "print(\"Extracted Files:\", extracted_files)\n",
        "\n",
        "csv_file_path = 'train.csv.zip'\n",
        "\n",
        "train_df = pd.read_csv(csv_file_path)\n",
        "\n"
      ]
    },
    {
      "cell_type": "code",
      "execution_count": null,
      "metadata": {
        "id": "R0pvHHJjuGr6"
      },
      "outputs": [],
      "source": []
    },
    {
      "cell_type": "code",
      "execution_count": 4,
      "metadata": {
        "colab": {
          "base_uri": "https://localhost:8080/",
          "height": 0
        },
        "id": "-BimVZ__tnnr",
        "outputId": "734b118a-0d80-4f5c-d900-90c5425ad8f5"
      },
      "outputs": [
        {
          "output_type": "execute_result",
          "data": {
            "text/plain": [
              "(50000, 2)"
            ]
          },
          "metadata": {},
          "execution_count": 4
        }
      ],
      "source": [
        "train_df.shape"
      ]
    },
    {
      "cell_type": "code",
      "source": [
        "from sklearn.preprocessing import LabelEncoder"
      ],
      "metadata": {
        "id": "hIfWarrdTYWT"
      },
      "execution_count": 5,
      "outputs": []
    },
    {
      "cell_type": "code",
      "source": [
        "le=LabelEncoder()\n",
        "train_df['sentiment']=le.fit_transform(train_df['sentiment'])"
      ],
      "metadata": {
        "id": "9IghIxs0TbEe"
      },
      "execution_count": 6,
      "outputs": []
    },
    {
      "cell_type": "code",
      "execution_count": 7,
      "metadata": {
        "id": "tOgKQaZ0uHcQ"
      },
      "outputs": [],
      "source": [
        "train=train_df[:40000]"
      ]
    },
    {
      "cell_type": "code",
      "execution_count": 9,
      "metadata": {
        "colab": {
          "base_uri": "https://localhost:8080/",
          "height": 112
        },
        "id": "cHey_m4wuQC9",
        "outputId": "8b5e7739-7919-4fe8-a43d-3d6363aba114"
      },
      "outputs": [
        {
          "output_type": "execute_result",
          "data": {
            "text/plain": [
              "                                              review  sentiment\n",
              "0  One of the other reviewers has mentioned that ...          1\n",
              "1  A wonderful little production. <br /><br />The...          1"
            ],
            "text/html": [
              "\n",
              "  <div id=\"df-9e4d74bf-d73a-425a-a2bd-5bff8e8346d9\" class=\"colab-df-container\">\n",
              "    <div>\n",
              "<style scoped>\n",
              "    .dataframe tbody tr th:only-of-type {\n",
              "        vertical-align: middle;\n",
              "    }\n",
              "\n",
              "    .dataframe tbody tr th {\n",
              "        vertical-align: top;\n",
              "    }\n",
              "\n",
              "    .dataframe thead th {\n",
              "        text-align: right;\n",
              "    }\n",
              "</style>\n",
              "<table border=\"1\" class=\"dataframe\">\n",
              "  <thead>\n",
              "    <tr style=\"text-align: right;\">\n",
              "      <th></th>\n",
              "      <th>review</th>\n",
              "      <th>sentiment</th>\n",
              "    </tr>\n",
              "  </thead>\n",
              "  <tbody>\n",
              "    <tr>\n",
              "      <th>0</th>\n",
              "      <td>One of the other reviewers has mentioned that ...</td>\n",
              "      <td>1</td>\n",
              "    </tr>\n",
              "    <tr>\n",
              "      <th>1</th>\n",
              "      <td>A wonderful little production. &lt;br /&gt;&lt;br /&gt;The...</td>\n",
              "      <td>1</td>\n",
              "    </tr>\n",
              "  </tbody>\n",
              "</table>\n",
              "</div>\n",
              "    <div class=\"colab-df-buttons\">\n",
              "\n",
              "  <div class=\"colab-df-container\">\n",
              "    <button class=\"colab-df-convert\" onclick=\"convertToInteractive('df-9e4d74bf-d73a-425a-a2bd-5bff8e8346d9')\"\n",
              "            title=\"Convert this dataframe to an interactive table.\"\n",
              "            style=\"display:none;\">\n",
              "\n",
              "  <svg xmlns=\"http://www.w3.org/2000/svg\" height=\"24px\" viewBox=\"0 -960 960 960\">\n",
              "    <path d=\"M120-120v-720h720v720H120Zm60-500h600v-160H180v160Zm220 220h160v-160H400v160Zm0 220h160v-160H400v160ZM180-400h160v-160H180v160Zm440 0h160v-160H620v160ZM180-180h160v-160H180v160Zm440 0h160v-160H620v160Z\"/>\n",
              "  </svg>\n",
              "    </button>\n",
              "\n",
              "  <style>\n",
              "    .colab-df-container {\n",
              "      display:flex;\n",
              "      gap: 12px;\n",
              "    }\n",
              "\n",
              "    .colab-df-convert {\n",
              "      background-color: #E8F0FE;\n",
              "      border: none;\n",
              "      border-radius: 50%;\n",
              "      cursor: pointer;\n",
              "      display: none;\n",
              "      fill: #1967D2;\n",
              "      height: 32px;\n",
              "      padding: 0 0 0 0;\n",
              "      width: 32px;\n",
              "    }\n",
              "\n",
              "    .colab-df-convert:hover {\n",
              "      background-color: #E2EBFA;\n",
              "      box-shadow: 0px 1px 2px rgba(60, 64, 67, 0.3), 0px 1px 3px 1px rgba(60, 64, 67, 0.15);\n",
              "      fill: #174EA6;\n",
              "    }\n",
              "\n",
              "    .colab-df-buttons div {\n",
              "      margin-bottom: 4px;\n",
              "    }\n",
              "\n",
              "    [theme=dark] .colab-df-convert {\n",
              "      background-color: #3B4455;\n",
              "      fill: #D2E3FC;\n",
              "    }\n",
              "\n",
              "    [theme=dark] .colab-df-convert:hover {\n",
              "      background-color: #434B5C;\n",
              "      box-shadow: 0px 1px 3px 1px rgba(0, 0, 0, 0.15);\n",
              "      filter: drop-shadow(0px 1px 2px rgba(0, 0, 0, 0.3));\n",
              "      fill: #FFFFFF;\n",
              "    }\n",
              "  </style>\n",
              "\n",
              "    <script>\n",
              "      const buttonEl =\n",
              "        document.querySelector('#df-9e4d74bf-d73a-425a-a2bd-5bff8e8346d9 button.colab-df-convert');\n",
              "      buttonEl.style.display =\n",
              "        google.colab.kernel.accessAllowed ? 'block' : 'none';\n",
              "\n",
              "      async function convertToInteractive(key) {\n",
              "        const element = document.querySelector('#df-9e4d74bf-d73a-425a-a2bd-5bff8e8346d9');\n",
              "        const dataTable =\n",
              "          await google.colab.kernel.invokeFunction('convertToInteractive',\n",
              "                                                    [key], {});\n",
              "        if (!dataTable) return;\n",
              "\n",
              "        const docLinkHtml = 'Like what you see? Visit the ' +\n",
              "          '<a target=\"_blank\" href=https://colab.research.google.com/notebooks/data_table.ipynb>data table notebook</a>'\n",
              "          + ' to learn more about interactive tables.';\n",
              "        element.innerHTML = '';\n",
              "        dataTable['output_type'] = 'display_data';\n",
              "        await google.colab.output.renderOutput(dataTable, element);\n",
              "        const docLink = document.createElement('div');\n",
              "        docLink.innerHTML = docLinkHtml;\n",
              "        element.appendChild(docLink);\n",
              "      }\n",
              "    </script>\n",
              "  </div>\n",
              "\n",
              "\n",
              "<div id=\"df-27cfa981-8511-4544-90a0-5aaa38ab877b\">\n",
              "  <button class=\"colab-df-quickchart\" onclick=\"quickchart('df-27cfa981-8511-4544-90a0-5aaa38ab877b')\"\n",
              "            title=\"Suggest charts\"\n",
              "            style=\"display:none;\">\n",
              "\n",
              "<svg xmlns=\"http://www.w3.org/2000/svg\" height=\"24px\"viewBox=\"0 0 24 24\"\n",
              "     width=\"24px\">\n",
              "    <g>\n",
              "        <path d=\"M19 3H5c-1.1 0-2 .9-2 2v14c0 1.1.9 2 2 2h14c1.1 0 2-.9 2-2V5c0-1.1-.9-2-2-2zM9 17H7v-7h2v7zm4 0h-2V7h2v10zm4 0h-2v-4h2v4z\"/>\n",
              "    </g>\n",
              "</svg>\n",
              "  </button>\n",
              "\n",
              "<style>\n",
              "  .colab-df-quickchart {\n",
              "      --bg-color: #E8F0FE;\n",
              "      --fill-color: #1967D2;\n",
              "      --hover-bg-color: #E2EBFA;\n",
              "      --hover-fill-color: #174EA6;\n",
              "      --disabled-fill-color: #AAA;\n",
              "      --disabled-bg-color: #DDD;\n",
              "  }\n",
              "\n",
              "  [theme=dark] .colab-df-quickchart {\n",
              "      --bg-color: #3B4455;\n",
              "      --fill-color: #D2E3FC;\n",
              "      --hover-bg-color: #434B5C;\n",
              "      --hover-fill-color: #FFFFFF;\n",
              "      --disabled-bg-color: #3B4455;\n",
              "      --disabled-fill-color: #666;\n",
              "  }\n",
              "\n",
              "  .colab-df-quickchart {\n",
              "    background-color: var(--bg-color);\n",
              "    border: none;\n",
              "    border-radius: 50%;\n",
              "    cursor: pointer;\n",
              "    display: none;\n",
              "    fill: var(--fill-color);\n",
              "    height: 32px;\n",
              "    padding: 0;\n",
              "    width: 32px;\n",
              "  }\n",
              "\n",
              "  .colab-df-quickchart:hover {\n",
              "    background-color: var(--hover-bg-color);\n",
              "    box-shadow: 0 1px 2px rgba(60, 64, 67, 0.3), 0 1px 3px 1px rgba(60, 64, 67, 0.15);\n",
              "    fill: var(--button-hover-fill-color);\n",
              "  }\n",
              "\n",
              "  .colab-df-quickchart-complete:disabled,\n",
              "  .colab-df-quickchart-complete:disabled:hover {\n",
              "    background-color: var(--disabled-bg-color);\n",
              "    fill: var(--disabled-fill-color);\n",
              "    box-shadow: none;\n",
              "  }\n",
              "\n",
              "  .colab-df-spinner {\n",
              "    border: 2px solid var(--fill-color);\n",
              "    border-color: transparent;\n",
              "    border-bottom-color: var(--fill-color);\n",
              "    animation:\n",
              "      spin 1s steps(1) infinite;\n",
              "  }\n",
              "\n",
              "  @keyframes spin {\n",
              "    0% {\n",
              "      border-color: transparent;\n",
              "      border-bottom-color: var(--fill-color);\n",
              "      border-left-color: var(--fill-color);\n",
              "    }\n",
              "    20% {\n",
              "      border-color: transparent;\n",
              "      border-left-color: var(--fill-color);\n",
              "      border-top-color: var(--fill-color);\n",
              "    }\n",
              "    30% {\n",
              "      border-color: transparent;\n",
              "      border-left-color: var(--fill-color);\n",
              "      border-top-color: var(--fill-color);\n",
              "      border-right-color: var(--fill-color);\n",
              "    }\n",
              "    40% {\n",
              "      border-color: transparent;\n",
              "      border-right-color: var(--fill-color);\n",
              "      border-top-color: var(--fill-color);\n",
              "    }\n",
              "    60% {\n",
              "      border-color: transparent;\n",
              "      border-right-color: var(--fill-color);\n",
              "    }\n",
              "    80% {\n",
              "      border-color: transparent;\n",
              "      border-right-color: var(--fill-color);\n",
              "      border-bottom-color: var(--fill-color);\n",
              "    }\n",
              "    90% {\n",
              "      border-color: transparent;\n",
              "      border-bottom-color: var(--fill-color);\n",
              "    }\n",
              "  }\n",
              "</style>\n",
              "\n",
              "  <script>\n",
              "    async function quickchart(key) {\n",
              "      const quickchartButtonEl =\n",
              "        document.querySelector('#' + key + ' button');\n",
              "      quickchartButtonEl.disabled = true;  // To prevent multiple clicks.\n",
              "      quickchartButtonEl.classList.add('colab-df-spinner');\n",
              "      try {\n",
              "        const charts = await google.colab.kernel.invokeFunction(\n",
              "            'suggestCharts', [key], {});\n",
              "      } catch (error) {\n",
              "        console.error('Error during call to suggestCharts:', error);\n",
              "      }\n",
              "      quickchartButtonEl.classList.remove('colab-df-spinner');\n",
              "      quickchartButtonEl.classList.add('colab-df-quickchart-complete');\n",
              "    }\n",
              "    (() => {\n",
              "      let quickchartButtonEl =\n",
              "        document.querySelector('#df-27cfa981-8511-4544-90a0-5aaa38ab877b button');\n",
              "      quickchartButtonEl.style.display =\n",
              "        google.colab.kernel.accessAllowed ? 'block' : 'none';\n",
              "    })();\n",
              "  </script>\n",
              "</div>\n",
              "    </div>\n",
              "  </div>\n"
            ]
          },
          "metadata": {},
          "execution_count": 9
        }
      ],
      "source": [
        "train.head(2)"
      ]
    },
    {
      "cell_type": "code",
      "execution_count": 8,
      "metadata": {
        "id": "uaRMBgHfuVbV"
      },
      "outputs": [],
      "source": [
        "sentiment=train['sentiment']"
      ]
    },
    {
      "cell_type": "code",
      "execution_count": 10,
      "metadata": {
        "colab": {
          "base_uri": "https://localhost:8080/",
          "height": 0
        },
        "id": "WcRqR2Vdushs",
        "outputId": "c8e3ab1e-5f73-4bc7-a777-784e05f501d7"
      },
      "outputs": [
        {
          "output_type": "execute_result",
          "data": {
            "text/plain": [
              "0        1\n",
              "1        1\n",
              "2        1\n",
              "3        0\n",
              "4        1\n",
              "        ..\n",
              "39995    1\n",
              "39996    1\n",
              "39997    1\n",
              "39998    0\n",
              "39999    0\n",
              "Name: sentiment, Length: 40000, dtype: int64"
            ]
          },
          "metadata": {},
          "execution_count": 10
        }
      ],
      "source": [
        "sentiment"
      ]
    },
    {
      "cell_type": "code",
      "execution_count": 11,
      "metadata": {
        "id": "oVoTdih2uya4"
      },
      "outputs": [],
      "source": [
        "train=train['review']"
      ]
    },
    {
      "cell_type": "code",
      "execution_count": null,
      "metadata": {
        "id": "Zh0IKWVt2Rh3"
      },
      "outputs": [],
      "source": []
    },
    {
      "cell_type": "code",
      "execution_count": 3,
      "metadata": {
        "id": "LlhqBFDKu4TR"
      },
      "outputs": [],
      "source": []
    },
    {
      "cell_type": "code",
      "execution_count": 4,
      "metadata": {
        "id": "uFp82IXovlTj"
      },
      "outputs": [],
      "source": []
    },
    {
      "cell_type": "code",
      "execution_count": 31,
      "metadata": {
        "colab": {
          "base_uri": "https://localhost:8080/",
          "height": 0
        },
        "id": "J6e_cxhGCak6",
        "outputId": "21a499ac-7845-4116-8a59-5acd16284bb7"
      },
      "outputs": [
        {
          "output_type": "execute_result",
          "data": {
            "text/plain": [
              "0      1\n",
              "1      1\n",
              "2      1\n",
              "3      0\n",
              "4      1\n",
              "      ..\n",
              "795    1\n",
              "796    1\n",
              "797    1\n",
              "798    0\n",
              "799    1\n",
              "Name: sentiment, Length: 800, dtype: int64"
            ]
          },
          "metadata": {},
          "execution_count": 31
        }
      ],
      "source": [
        "sentiment"
      ]
    },
    {
      "cell_type": "code",
      "execution_count": 12,
      "metadata": {
        "id": "51VL4PjP2Shc"
      },
      "outputs": [],
      "source": [
        "train=train.str.lower()"
      ]
    },
    {
      "cell_type": "code",
      "execution_count": 13,
      "metadata": {
        "id": "_5zJQ7ZZ6i7C"
      },
      "outputs": [],
      "source": [
        "import string\n",
        "def remove_pun(text):\n",
        "  st=string.punctuation\n",
        "  return text.translate(str.maketrans('','',st))\n",
        "train=train.apply(remove_pun)"
      ]
    },
    {
      "cell_type": "code",
      "execution_count": 14,
      "metadata": {
        "colab": {
          "base_uri": "https://localhost:8080/",
          "height": 0
        },
        "id": "7vNiZYOP2as0",
        "outputId": "399dfbff-5d8c-4a30-a1f2-59df647237c5"
      },
      "outputs": [
        {
          "output_type": "stream",
          "name": "stdout",
          "text": [
            "Requirement already satisfied: beautifulsoup4 in /usr/local/lib/python3.10/dist-packages (4.11.2)\n",
            "Requirement already satisfied: soupsieve>1.2 in /usr/local/lib/python3.10/dist-packages (from beautifulsoup4) (2.5)\n"
          ]
        }
      ],
      "source": [
        "pip install beautifulsoup4\n"
      ]
    },
    {
      "cell_type": "code",
      "execution_count": 15,
      "metadata": {
        "id": "Xz5uyTO27Aqb"
      },
      "outputs": [],
      "source": [
        "from bs4 import BeautifulSoup\n",
        "\n",
        "def remove_html_tags(text):\n",
        "    soup = BeautifulSoup(text, \"html.parser\")\n",
        "    cleaned_text = soup.get_text()\n",
        "    return cleaned_text"
      ]
    },
    {
      "cell_type": "code",
      "execution_count": 16,
      "metadata": {
        "id": "6tImoM9Z7EQ1"
      },
      "outputs": [],
      "source": [
        "train=train.apply(remove_html_tags)"
      ]
    },
    {
      "cell_type": "code",
      "execution_count": 17,
      "metadata": {
        "colab": {
          "base_uri": "https://localhost:8080/",
          "height": 0
        },
        "id": "NWB8rZc47-rI",
        "outputId": "c528e5b7-6837-4a0f-d5a8-8f3ae85f4cea"
      },
      "outputs": [
        {
          "output_type": "stream",
          "name": "stderr",
          "text": [
            "[nltk_data] Downloading package stopwords to /root/nltk_data...\n",
            "[nltk_data]   Package stopwords is already up-to-date!\n"
          ]
        },
        {
          "output_type": "execute_result",
          "data": {
            "text/plain": [
              "True"
            ]
          },
          "metadata": {},
          "execution_count": 17
        }
      ],
      "source": [
        "from nltk.corpus import stopwords\n",
        "import nltk\n",
        "nltk.download('stopwords')"
      ]
    },
    {
      "cell_type": "code",
      "execution_count": 18,
      "metadata": {
        "id": "a3COvN9B8Eps"
      },
      "outputs": [],
      "source": [
        "def remove_stopwords(text):\n",
        "  l=[]\n",
        "  for i in text.split():\n",
        "    if i in stopwords.words('english'):\n",
        "      l.append('')\n",
        "    else:\n",
        "      l.append(i)\n",
        "  return \" \".join(l)\n",
        "train=train.apply(remove_stopwords)"
      ]
    },
    {
      "cell_type": "code",
      "execution_count": 19,
      "metadata": {
        "colab": {
          "base_uri": "https://localhost:8080/",
          "height": 0
        },
        "id": "IHPeDIdj8jx9",
        "outputId": "3cde3547-ccc1-4aad-bd8c-29fc9ed78a09"
      },
      "outputs": [
        {
          "output_type": "stream",
          "name": "stderr",
          "text": [
            "[nltk_data] Downloading package wordnet to /root/nltk_data...\n",
            "[nltk_data]   Package wordnet is already up-to-date!\n"
          ]
        }
      ],
      "source": [
        "import nltk\n",
        "nltk.download('wordnet')\n",
        "from nltk.stem import WordNetLemmatizer\n",
        "wordnet_lem=WordNetLemmatizer()\n",
        "def words_lem(text):\n",
        "  return \" \".join([wordnet_lem.lemmatize(word) for word in text.split()])"
      ]
    },
    {
      "cell_type": "code",
      "execution_count": 20,
      "metadata": {
        "id": "5nGcK4KD8pBz"
      },
      "outputs": [],
      "source": [
        "train=train.apply(words_lem)\n"
      ]
    },
    {
      "cell_type": "code",
      "execution_count": 21,
      "metadata": {
        "colab": {
          "base_uri": "https://localhost:8080/",
          "height": 0
        },
        "id": "YOG13asc-Xez",
        "outputId": "ec1799ca-bcab-4ca2-9a5f-75e72292f413"
      },
      "outputs": [
        {
          "output_type": "stream",
          "name": "stderr",
          "text": [
            "[nltk_data] Downloading package punkt to /root/nltk_data...\n",
            "[nltk_data]   Package punkt is already up-to-date!\n"
          ]
        },
        {
          "output_type": "stream",
          "name": "stdout",
          "text": [
            "Embedding for 'movie': [-1.0160823  -1.3589013  -1.7405237   0.4408719   2.1484363  -1.6598125\n",
            " -0.74524343  1.8143988  -0.888104   -0.9182903   0.03638075  1.296982\n",
            "  0.5000559   2.8504672   0.92268103 -1.3357245   2.229483    0.08688869\n",
            " -2.0776129  -1.9765911  -1.9391596  -1.1947465   1.8913842   2.5293941\n",
            " -0.6076873   0.15847427  0.18872389  0.34199023 -1.7610939   0.92416793\n",
            "  1.8731053  -0.7842073   0.13962142 -0.00291653 -1.0603759   0.297745\n",
            " -1.2196528   0.80573165 -1.0174179   1.6697332  -0.61483103 -0.8791406\n",
            " -0.42170274  1.0510522   0.5178769   0.81038576 -0.07168169 -1.9017121\n",
            "  0.7874096  -0.82605374  0.7277143  -2.6354818  -1.599435   -1.7193458\n",
            "  1.3226798  -0.22268276 -0.09289342 -1.0032125  -2.1269374   0.9053268\n",
            " -0.72945154 -2.2271569   2.164933   -0.6899469  -1.0733937   1.3784652\n",
            " -0.08470984 -1.1397281  -0.9798938  -0.60870296 -0.10047787 -0.9021869\n",
            " -0.705046   -0.12148266 -1.1200786   1.5316737  -2.0144591  -0.55430186\n",
            "  0.21392643  0.11151705 -1.1530328   1.2311971  -1.9763815   2.0847893\n",
            "  0.29207557 -1.8242141   0.37288436  0.05620011  0.06544545 -0.42997223\n",
            " -0.8186812   0.86614627  0.30596688 -0.72581977  1.3800365  -0.10612684\n",
            "  2.1534374   0.29954016 -0.5195591  -1.6158547 ]\n"
          ]
        }
      ],
      "source": [
        "from gensim.models import Word2Vec\n",
        "from nltk.tokenize import word_tokenize\n",
        "import nltk\n",
        "nltk.download('punkt')\n",
        "\n",
        "\n",
        "tokenized_reviews = [word_tokenize(review) for review in train]\n",
        "\n",
        "model = Word2Vec(sentences=tokenized_reviews, vector_size=100, window=5, min_count=1, workers=4)\n",
        "\n",
        "word_embeddings = model.wv\n",
        "\n",
        "embedding_for_movie = word_embeddings['movie']\n",
        "print(\"Embedding for 'movie':\", embedding_for_movie)\n"
      ]
    },
    {
      "cell_type": "code",
      "execution_count": 23,
      "metadata": {
        "id": "vStW_vD6Ei-g"
      },
      "outputs": [],
      "source": [
        "numeric_representations = [np.mean([word_embeddings[word] for word in tokens if word in word_embeddings], axis=0) for tokens in tokenized_reviews]\n"
      ]
    },
    {
      "cell_type": "code",
      "execution_count": 22,
      "metadata": {
        "colab": {
          "base_uri": "https://localhost:8080/",
          "height": 0
        },
        "id": "tcUQo7lKBa9y",
        "outputId": "7ac25924-90f1-48b2-b47a-e1728ae35bd5"
      },
      "outputs": [
        {
          "output_type": "execute_result",
          "data": {
            "text/plain": [
              "[('decent', 0.7804273366928101),\n",
              " ('great', 0.7162587642669678),\n",
              " ('nice', 0.6902511119842529),\n",
              " ('bad', 0.6734520196914673),\n",
              " ('okay', 0.6520130038261414),\n",
              " ('fine', 0.6452736854553223),\n",
              " ('cool', 0.6432137489318848),\n",
              " ('ok', 0.6305968165397644),\n",
              " ('excellent', 0.6164004802703857),\n",
              " ('awesome', 0.6077532172203064)]"
            ]
          },
          "metadata": {},
          "execution_count": 22
        }
      ],
      "source": [
        "model.wv.most_similar('good')"
      ]
    },
    {
      "cell_type": "code",
      "execution_count": 24,
      "metadata": {
        "colab": {
          "base_uri": "https://localhost:8080/",
          "height": 0
        },
        "id": "VDL4OmnuCGu_",
        "outputId": "092e0b17-4579-4c09-cdea-4466dde082ee"
      },
      "outputs": [
        {
          "output_type": "stream",
          "name": "stdout",
          "text": [
            "Epoch 1/20\n",
            "800/800 [==============================] - 4s 4ms/step - loss: 0.4613 - accuracy: 0.7870 - val_loss: 0.3543 - val_accuracy: 0.8514\n",
            "Epoch 2/20\n",
            "800/800 [==============================] - 2s 3ms/step - loss: 0.3773 - accuracy: 0.8350 - val_loss: 0.3441 - val_accuracy: 0.8525\n",
            "Epoch 3/20\n",
            "800/800 [==============================] - 2s 3ms/step - loss: 0.3709 - accuracy: 0.8418 - val_loss: 0.3387 - val_accuracy: 0.8553\n",
            "Epoch 4/20\n",
            "800/800 [==============================] - 2s 3ms/step - loss: 0.3644 - accuracy: 0.8461 - val_loss: 0.3407 - val_accuracy: 0.8522\n",
            "Epoch 5/20\n",
            "800/800 [==============================] - 2s 3ms/step - loss: 0.3589 - accuracy: 0.8462 - val_loss: 0.3399 - val_accuracy: 0.8530\n",
            "Epoch 6/20\n",
            "800/800 [==============================] - 3s 4ms/step - loss: 0.3605 - accuracy: 0.8463 - val_loss: 0.3382 - val_accuracy: 0.8561\n",
            "Epoch 7/20\n",
            "800/800 [==============================] - 2s 3ms/step - loss: 0.3573 - accuracy: 0.8482 - val_loss: 0.3343 - val_accuracy: 0.8561\n",
            "Epoch 8/20\n",
            "800/800 [==============================] - 2s 3ms/step - loss: 0.3550 - accuracy: 0.8496 - val_loss: 0.3349 - val_accuracy: 0.8562\n",
            "Epoch 9/20\n",
            "800/800 [==============================] - 2s 3ms/step - loss: 0.3493 - accuracy: 0.8511 - val_loss: 0.3345 - val_accuracy: 0.8547\n",
            "Epoch 10/20\n",
            "800/800 [==============================] - 2s 3ms/step - loss: 0.3512 - accuracy: 0.8512 - val_loss: 0.3345 - val_accuracy: 0.8556\n",
            "Epoch 11/20\n",
            "800/800 [==============================] - 3s 4ms/step - loss: 0.3478 - accuracy: 0.8513 - val_loss: 0.3323 - val_accuracy: 0.8541\n",
            "Epoch 12/20\n",
            "800/800 [==============================] - 2s 3ms/step - loss: 0.3464 - accuracy: 0.8516 - val_loss: 0.3339 - val_accuracy: 0.8550\n",
            "Epoch 13/20\n",
            "800/800 [==============================] - 2s 3ms/step - loss: 0.3466 - accuracy: 0.8497 - val_loss: 0.3321 - val_accuracy: 0.8552\n",
            "Epoch 14/20\n",
            "800/800 [==============================] - 2s 3ms/step - loss: 0.3441 - accuracy: 0.8531 - val_loss: 0.3286 - val_accuracy: 0.8578\n",
            "Epoch 15/20\n",
            "800/800 [==============================] - 2s 3ms/step - loss: 0.3438 - accuracy: 0.8523 - val_loss: 0.3295 - val_accuracy: 0.8569\n",
            "Epoch 16/20\n",
            "800/800 [==============================] - 3s 4ms/step - loss: 0.3402 - accuracy: 0.8541 - val_loss: 0.3256 - val_accuracy: 0.8602\n",
            "Epoch 17/20\n",
            "800/800 [==============================] - 2s 3ms/step - loss: 0.3419 - accuracy: 0.8549 - val_loss: 0.3266 - val_accuracy: 0.8578\n",
            "Epoch 18/20\n",
            "800/800 [==============================] - 2s 3ms/step - loss: 0.3387 - accuracy: 0.8568 - val_loss: 0.3277 - val_accuracy: 0.8594\n",
            "Epoch 19/20\n",
            "800/800 [==============================] - 2s 3ms/step - loss: 0.3390 - accuracy: 0.8561 - val_loss: 0.3255 - val_accuracy: 0.8578\n",
            "Epoch 20/20\n",
            "800/800 [==============================] - 2s 3ms/step - loss: 0.3368 - accuracy: 0.8561 - val_loss: 0.3289 - val_accuracy: 0.8553\n",
            "250/250 [==============================] - 0s 2ms/step\n",
            "Test Accuracy: 85.99%\n"
          ]
        }
      ],
      "source": [
        "import numpy as np\n",
        "from sklearn.model_selection import train_test_split\n",
        "from sklearn.preprocessing import LabelEncoder\n",
        "from sklearn.metrics import accuracy_score\n",
        "from tensorflow import keras\n",
        "from tensorflow.keras import layers\n",
        "\n",
        "\n",
        "\n",
        "X_train, X_test, y_train, y_test = train_test_split(numeric_representations, sentiment, test_size=0.2, random_state=42)\n",
        "\n",
        "\n",
        "model = keras.Sequential([\n",
        "    layers.Dense(128, activation='relu', input_shape=(X_train[0].shape[0],)),\n",
        "    layers.Dropout(0.5),\n",
        "    layers.Dense(64, activation='relu'),\n",
        "    layers.Dropout(0.3),\n",
        "    layers.Dense(3, activation='softmax')\n",
        "])\n",
        "\n",
        "model.compile(optimizer='adam', loss='sparse_categorical_crossentropy', metrics=['accuracy'])\n",
        "\n",
        "model.fit(np.array(X_train), np.array(y_train), epochs=20, batch_size=32, validation_split=0.2)\n",
        "\n",
        "y_pred = np.argmax(model.predict(np.array(X_test)), axis=1)\n",
        "accuracy = accuracy_score(y_test, y_pred)\n",
        "print(f\"Test Accuracy: {accuracy * 100:.2f}%\")\n"
      ]
    },
    {
      "cell_type": "code",
      "source": [
        "numeric_representations_str = [\" \".join(map(str, representation)) for representation in numeric_representations]\n"
      ],
      "metadata": {
        "id": "pnCZWEtmXWQV"
      },
      "execution_count": 47,
      "outputs": []
    },
    {
      "cell_type": "code",
      "source": [],
      "metadata": {
        "id": "2gtJgtJwShfP"
      },
      "execution_count": null,
      "outputs": []
    }
  ],
  "metadata": {
    "colab": {
      "provenance": [],
      "authorship_tag": "ABX9TyPLmQ8xq5x8PLWNrfLJtDsN",
      "include_colab_link": true
    },
    "kernelspec": {
      "display_name": "Python 3",
      "name": "python3"
    },
    "language_info": {
      "name": "python"
    }
  },
  "nbformat": 4,
  "nbformat_minor": 0
}